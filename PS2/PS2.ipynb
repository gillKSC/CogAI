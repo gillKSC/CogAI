{
 "cells": [
  {
   "cell_type": "markdown",
   "id": "9453d4a3",
   "metadata": {},
   "source": [
    "# Problem Set 2 -- Sampling-based algorithms in Gen\n",
    "\n",
    "<div class=\"alert alert-info\">\n",
    "    \n",
    "**Instructions:** Finish the code following the instructions. Execute all blocks of your Jupyter notebook, write analyses in English in the corresponding Markdown blocks (\"marked as YOUR ANSWER HERE\"), save the final notebook as a pdf file, and submit it on Canvas.\n",
    "\n",
    "Acknowledge the contributions if you collaborated with someone else. You must write your own code and analyses.\n",
    "</div>"
   ]
  },
  {
   "cell_type": "markdown",
   "id": "2bcf023c",
   "metadata": {},
   "source": [
    "First, let's install neccessary packages."
   ]
  },
  {
   "cell_type": "code",
   "execution_count": null,
   "id": "eff9cf31",
   "metadata": {},
   "outputs": [],
   "source": [
    "import Pkg\n",
    "Pkg.activate(\"CogAI\")\n",
    "Pkg.add([\"CSV\", \"DataFrames\"])\n",
    "# load necessary packages for this problem set\n",
    "# Note that running this for the first time might take a good 15 mins &ndash; plan ahead\n",
    "using Gen\n",
    "using Plots\n",
    "using CSV\n",
    "using DataFrames\n",
    "\n",
    "include(\"utils/draw.jl\")"
   ]
  },
  {
   "cell_type": "markdown",
   "id": "ace05a6f",
   "metadata": {},
   "source": [
    "## Question 1\n",
    "\n",
    "Nimet has been inspecting 3 colonies of leaf bugs; the average size of the members of each colony is different and denoted as $\\theta_1, \\theta_2, \\theta_3$. \n",
    "\n",
    "Nimet knows that these 3 colonies are related, sprung off from a common colony last year: That is, she believes the average size of leafbugs in each colony should come from a shared underlying distribution. \n",
    "\n",
    "She measures the size of the 40 members of each colony, denoted $\\vec{x}_1, \\vec{x}_2, \\vec{x}_3$. \n",
    "\n",
    "Nimet intuitively arrives at an inference about the average size of the members of each colony, as well as the shared parameter determining the average size of  leafbugs in each colony, based on these observations from each colony.\n",
    "\n",
    "Your task is to formalize Nimet's inference process. You can assume that the average size of leafbugs in a colony (i.e., $\\theta$s) can be modeled as coming from a Gamma distribution, $Gamma(\\alpha, scale=2)$, shared across the three colonies. Furthermore, you can assume a prior over the `shape` parameter of the Gamma distribution, denoted $\\alpha$, to be a uniform over the range of 1.0 to 15.0. (We assume that we know the scale parameter of the Gamma distribution `scale=2`).\n",
    "\n",
    "Finally assume that the size measurements come from a normal distribution with known standard deviation $\\vec{x}_{i,k} \\sim Normal(\\theta_i, \\sigma=0.1)$, where $i \\in [1, 3]$ indexes the colony and $k \\in [1, 40]$ indexes members in that colony.\n",
    "\n",
    "The following shows a graphical model of the generative model you can use to formalize Nimet's thought process. \n",
    "\n",
    "<img src=\"./images/leafbug-gm.png\" alt=\"\" width=\"400\"/>"
   ]
  },
  {
   "cell_type": "markdown",
   "id": "6277e37c",
   "metadata": {},
   "source": [
    "### Q 1A [3 pts]\n",
    "\n",
    "Fill in the following to write a Gen generative function of the prior illustrated in the graphical model based on the parametric distributions you decided appropriate."
   ]
  },
  {
   "cell_type": "code",
   "execution_count": null,
   "id": "da759bab",
   "metadata": {},
   "outputs": [],
   "source": [
    "@gen function leafbug_colonies()\n",
    "    scale = 2\n",
    "    σ = 0.1\n",
    "\n",
    "    # What's the prior of α?\n",
    "    # your code here\n",
    "    throw(Exception(\"Not Implemented.\"))\n",
    "\n",
    "    # average size of leafbugs in each colony\n",
    "    # What's distribution for each of θ1, θ2, θ3?\n",
    "    # your code here\n",
    "    throw(Exception(\"Not Implemented.\"))\n",
    "    \n",
    "    # make observation for each colony's leafbugs\n",
    "    # the address structure in trace should be \n",
    "    # {:data => colony_id => leafbug_id => :x} ~ ...\n",
    "    # e.g., {:data => 1 => 3 => :x} ~ ...\n",
    "    # NOTE: You can perform this in a single loop. It's not required, but definitely a worthwhile challenge!\n",
    "    # your code here\n",
    "    throw(Exception(\"Not Implemented.\"))\n",
    "end"
   ]
  },
  {
   "cell_type": "markdown",
   "id": "756248e9",
   "metadata": {},
   "source": [
    "Now simulate your generative function to ensure that its outputs make sense"
   ]
  },
  {
   "cell_type": "code",
   "execution_count": null,
   "id": "bba160f2",
   "metadata": {},
   "outputs": [],
   "source": [
    "# Run your model `leafbug_colonies` forward\n",
    "# your code here\n",
    "throw(Exception(\"Not Implemented.\"))\n",
    "get_choices(trace)"
   ]
  },
  {
   "cell_type": "markdown",
   "id": "ecdd156d",
   "metadata": {},
   "source": [
    "Fill in the following code to load your data from `./data/leafbug_sizes.csv`. Each column is measurements in a colony."
   ]
  },
  {
   "cell_type": "code",
   "execution_count": null,
   "id": "ce7c3157",
   "metadata": {},
   "outputs": [],
   "source": [
    "function make_observations(df::DataFrame)\n",
    "    # Setup your observation constraints\n",
    "    # your code here\n",
    "    throw(Exception(\"Not Implemented.\"))\n",
    "\n",
    "    # Apply your constraints\n",
    "    # To index DataFrames, you need to use the column name as a symbol.\n",
    "    #   This means you'll need to use `Symbol(\"colony<N>\")` to get the\n",
    "    #   correct column name to index the DataFrame.\n",
    "    # your code here\n",
    "    throw(Exception(\"Not Implemented.\"))\n",
    "    \n",
    "    constraints\n",
    "end \n",
    "# call the funciton to get the observations\n",
    "df = DataFrame(CSV.File(\"./data/leafbug_sizes.csv\"))\n",
    "observations = make_observations(df)"
   ]
  },
  {
   "cell_type": "markdown",
   "id": "4d8bf8f4",
   "metadata": {},
   "source": [
    "### Q 1B [1 pt]\n",
    "\n",
    "Given your generative model and observations, we will perform importance resampling for posterior inference. Fill in the code to obtain 100 posterior samples each using 1000 resampling steps."
   ]
  },
  {
   "cell_type": "code",
   "execution_count": null,
   "id": "07561a2c",
   "metadata": {},
   "outputs": [],
   "source": [
    "# Note: this codeblock might take a minute to run\n",
    "\n",
    "# Using 1000 samples in `importance_resampling`, do posterior inference.\n",
    "# Ensure that you keep trace of all traces (that is, you should have a Vector of 100 traces from your runs of `importance_resampling`)\n",
    "# your code here\n",
    "throw(Exception(\"Not Implemented.\"))"
   ]
  },
  {
   "cell_type": "markdown",
   "id": "a0b736dc",
   "metadata": {},
   "source": [
    "### Q 1C [1 pts]\n",
    "\n",
    "Fill in the following codeblock to visualize your posterior samples. \n",
    "\n",
    "First, show the mean log probability of all traces\n",
    "\n",
    "Then make a plot with 2 subplots\n",
    "\n",
    "* Subplot 1: Make a histogram plot showing $\\alpha$.\n",
    "* Subplot 2: Make another histogram plot showing the three $\\theta$s on the same plot."
   ]
  },
  {
   "cell_type": "code",
   "execution_count": null,
   "id": "cf6f839d",
   "metadata": {},
   "outputs": [],
   "source": [
    "# function for compute the average log probs of all traces\n",
    "function logmeanexp(scores)\n",
    "    logsumexp(scores) - log(length(scores))\n",
    "end;\n",
    "\n",
    "# function for display all traces\n",
    "function display_results(traces)\n",
    "    # compute the average log prob of all traces\n",
    "    log_probs = [get_score(t) for t in traces]\n",
    "    println(\"Average log probability: $(logmeanexp(log_probs))\")\n",
    "\n",
    "    # collect the inferred αs and θs across the chains and plot them.\n",
    "    αs = [t[:α] for t in traces]\n",
    "    # your code here\n",
    "    throw(Exception(\"Not Implemented.\"))\n",
    "\n",
    "    # plot the movements\n",
    "    α_plot = histogram(αs, thickness_scaling=3.5, size=(1000, 800), label=\"α\", xtickfontsize=5, ytickfontsize=5)\n",
    "\n",
    "    # Plot the θs on the same plot, use the same `thickness_scaling` and `size` as in α_plot. Ensure your plots are labeled correctly.\n",
    "    # your code here\n",
    "    throw(Exception(\"Not Implemented.\"))\n",
    "    \n",
    "    plot(α_plot, θ_plot, layout=(2, 1), size=(1600, 1200))\n",
    "end;"
   ]
  },
  {
   "cell_type": "code",
   "execution_count": null,
   "id": "28fe0ea6",
   "metadata": {},
   "outputs": [],
   "source": [
    "# run the display_results function to show the average log prob and inferred variables\n",
    "# your code here\n",
    "throw(Exception(\"Not Implemented.\"))"
   ]
  },
  {
   "cell_type": "markdown",
   "id": "e4de5c43",
   "metadata": {},
   "source": [
    "### Q 1D [3 pts]\n",
    "\n",
    "Now let's implement a MCMC algorithm with a cutomized proposal. In particular,\n",
    "\n",
    "1. Random work proposal for α \n",
    "2. Then block resimulation for θs\n",
    "\n",
    "Expected result: with 1000 updates (similar amount of compute compared to importance resampling), the mean log prob should be at least around 100\n",
    "\n",
    "You need to tune the max step size in random walk proposal to reach good inference results.\n"
   ]
  },
  {
   "cell_type": "code",
   "execution_count": null,
   "id": "e45407c1",
   "metadata": {},
   "outputs": [],
   "source": [
    "@gen function random_work_proposal(current_trace)\n",
    "    # Random work proposal on alpha\n",
    "    # NOTE: the new α must be within the range of [1, 15]\n",
    "    # adjust max step size to improve the inference results \n",
    "    # a good implementation means that the mean log prob should be at least around 100\n",
    "    # your code here\n",
    "    throw(Exception(\"Not Implemented.\"))\n",
    "end;"
   ]
  },
  {
   "cell_type": "code",
   "execution_count": null,
   "id": "76278ce0",
   "metadata": {},
   "outputs": [],
   "source": [
    "function MCMC_inference(observations, num_updates)\n",
    "    # Conduct Metropolis-Hastings update for \n",
    "    # num_updates times using your own proposal function\n",
    "    \n",
    "    # Generate the initial trace\n",
    "    # your code here\n",
    "    throw(Exception(\"Not Implemented.\"))\n",
    "    \n",
    "    for iter_id = 1:num_updates\n",
    "        # random walk MH update for α\n",
    "        # your code here\n",
    "        throw(Exception(\"Not Implemented.\"))\n",
    "            \n",
    "        # block resimulation MN update for θs\n",
    "        # NOTE: use Gen.select() instead of select() to select variables \n",
    "        # this is to avoid confusion with select() in DataFrames\n",
    "        # your code here\n",
    "        throw(Exception(\"Not Implemented.\"))\n",
    "    end\n",
    "    tr\n",
    "end;"
   ]
  },
  {
   "cell_type": "markdown",
   "id": "7ea6ba87",
   "metadata": {},
   "source": [
    "### Q 1E [1 pt]\n",
    "\n",
    "Fill in the code to obtain 100 posterior samples each using 1000 MH updates; then display the results using the display_results() function."
   ]
  },
  {
   "cell_type": "code",
   "execution_count": null,
   "id": "ec7c2eb5",
   "metadata": {},
   "outputs": [],
   "source": [
    "# Note: this codeblock might take a while to run\n",
    "\n",
    "# run MCMC inference with 1000 updates, repeat the inference 100 times, and save all traces\n",
    "# your code here\n",
    "throw(Exception(\"Not Implemented.\"))\n",
    "\n",
    "# run the display_results function to show the average log prob and inferred variables\n",
    "# your code here\n",
    "throw(Exception(\"Not Implemented.\"))"
   ]
  },
  {
   "cell_type": "markdown",
   "id": "0e7d459f",
   "metadata": {},
   "source": [
    "### Q 1F [1 pt]\n",
    "Compare the results of MCMC and importance resampling. Briefly explain the difference. Write 1 - 2 sentences in the Markdown block below."
   ]
  },
  {
   "cell_type": "markdown",
   "id": "48768337",
   "metadata": {},
   "source": [
    "YOUR ANSWER HERE"
   ]
  },
  {
   "cell_type": "markdown",
   "id": "e8f9f1ec",
   "metadata": {},
   "source": [
    "## Question 2\n",
    "\n",
    "The iron core of our planet conducts electricity, which creates a magnetic field around Earth. This magnetic field not only provides a protective shield against sun’s unwanted rays, but also creates a kind of a map that remains relatively constant across time. Many animal species are thought to rely on this magnetic field for wayfinding, from migratory birds across the open skies to fish, reptiles and crustaceans in the deep ocean. For example, sea turtles can use the magnetic field to make plans between points A and B on the globe, and to orient themselves, i.e., to know where they are on the Earth. \n",
    "\n",
    "Let's assume that the planet's magnetic field can be described using a two-dimensional grid. The sea turtle moves in this gridworld one step at a time, in one of the four cardinal direction: north (n), south (s), east (e), and west (w). The following struct encodes these mechanics of grid movements and it will come handy as we go along.\n",
    "\n"
   ]
  },
  {
   "cell_type": "code",
   "execution_count": null,
   "id": "80fe3d60",
   "metadata": {},
   "outputs": [],
   "source": [
    "struct Movement\n",
    "    dx::Real\n",
    "    dy::Real\n",
    "end\n",
    "\n",
    "const N = Movement( 0,  1)\n",
    "const E = Movement( 1,  0)\n",
    "const S = Movement( 0, -1)\n",
    "const W = Movement(-1,  0)\n",
    "const DIRECTIONS = [N, S, E, W]"
   ]
  },
  {
   "cell_type": "markdown",
   "id": "a4223249",
   "metadata": {},
   "source": [
    "Each cell in this grid emits the *intensity* and *direction* of the magnetic field at that cell. The `intensity` and `direction` of a coordinate at `x` and `y` are defined as:\n",
    "\n",
    "<img src=\"./images/magnetic-field.png\" alt=\"\" width=\"400\"/>\n",
    "\n",
    "Your overall goal in this question will be to infer a posterior over the sequence of movements of the sea turtle from a sequence of intensity and direction observations. We will build up to that."
   ]
  },
  {
   "cell_type": "markdown",
   "id": "e315b3cf",
   "metadata": {},
   "source": [
    "### Q 2A [4 pts]\n",
    "\n",
    "Imagine that suddently, this sea turtle finds itself in the middle of an oceanic storm. The storm is such that:\n",
    "\n",
    "* The sea turtle knows where it is at the beginning of the storm (time step `k=0`), including its `x` and `y` \n",
    "* At each time step, its movement &ndash; a single step in a cardinal direction: north `n`, south `s`, east `e` or west `w` &ndash; are dictated by the waves and turbulence of the ocean (not controlled by the sea turtle). Assume that these dynamics are random &ndash; a multinomial distribution with equal weight on each direction:\n",
    "\n",
    "$$p(m_{t} | m_{t-1}) = p(m_{t}) = Multinomial([n, s, e, w])$$\n",
    "\n",
    "* At each time step, the sea turtle observes noisy magnetic field measurements (because of the storm, it cannot additinally rely on vision or smell) \n",
    "$$p(intensity_{t}) \\sim Normal(x + y, \\sigma)$$\n",
    "$$p(direction_{t}) \\sim Normal(|x-y|, \\sigma)$$\n",
    "where $\\sigma=0.1$\n",
    "\n",
    "(You might be able to relate to the experience of our sea turtle friend if you can remember the last time you were on a Ferris Wheel with your eyes closed. In such a scenario, when you rely just on your vestibular system to tell your pose in space, you are likely to experience all sorts of hallucinated backward flips.)\n",
    "\n",
    "Your task is write a generative model of this process using Gen's generative functions and the generative function combinator `Unfold`. You will write a generative function (a temporal kernel) called `ferriswheel_kernel`, and input it to the `Unfold` combinator to create a temporal generative model called `ferriswheel`. \n",
    "\n",
    "Assume that the initial state of the sea turtle is provided to `ferriswheel` as a global variable (not modeled as a random variable). "
   ]
  },
  {
   "cell_type": "markdown",
   "id": "6c90b33f",
   "metadata": {},
   "source": [
    "Start with implementing a Julia `struct` to represent and modify the state information at each time step; the struct should include the following three entities. (For each variable, you must indicate its type.)\n",
    "\n",
    "- `movement`: current movement\n",
    "- `x`: current coordinate in the east-west axis\n",
    "- `y`: current coordinate in the north-south axis"
   ]
  },
  {
   "cell_type": "code",
   "execution_count": null,
   "id": "8225c680",
   "metadata": {},
   "outputs": [],
   "source": [
    "struct Field\n",
    "    # your code here\n",
    "    throw(Exception(\"Not Implemented.\"))\n",
    "end"
   ]
  },
  {
   "cell_type": "markdown",
   "id": "d412f3b1",
   "metadata": {},
   "source": [
    "Using the definitions above, fill in the following `intensity` function to compute the intensity of a `Field`."
   ]
  },
  {
   "cell_type": "code",
   "execution_count": null,
   "id": "8892bc1b",
   "metadata": {},
   "outputs": [],
   "source": [
    "function intensity(field::Field)\n",
    "    # your code here\n",
    "    throw(Exception(\"Not Implemented.\"))\n",
    "end"
   ]
  },
  {
   "cell_type": "markdown",
   "id": "5ca55a2e",
   "metadata": {},
   "source": [
    "Using the definitions above, fill in the following `direction` function to compute the direction of a `Field`."
   ]
  },
  {
   "cell_type": "code",
   "execution_count": null,
   "id": "ccfc2927",
   "metadata": {},
   "outputs": [],
   "source": [
    "function direction(field::Field)\n",
    "    # your code here\n",
    "    throw(Exception(\"Not Implemented.\"))\n",
    "end"
   ]
  },
  {
   "cell_type": "markdown",
   "id": "1651bc3d",
   "metadata": {},
   "source": [
    "We need a way to update the `x` and `y` entries of a `Field` based on a `Movement`. Using Julia's support for multiple dispatch and overriding functions and primitives, we provide a redefined addition, `Base.:+`, which applies a `Movement` to the `x` and `y` entries of a Field, returning a new `Field` with the addition as well as the input `Movement`. This will come in handy as we go along."
   ]
  },
  {
   "cell_type": "code",
   "execution_count": null,
   "id": "68a964e6",
   "metadata": {},
   "outputs": [],
   "source": [
    "function Base.:+(field::Field, movement::Movement)\n",
    "    return Field(\n",
    "        movement,\n",
    "        field.x + movement.dx,\n",
    "        field.y + movement.dy,\n",
    "    )\n",
    "end"
   ]
  },
  {
   "cell_type": "markdown",
   "id": "47d0f231",
   "metadata": {},
   "source": [
    "Fill in the following code block to complete the definition of ferrishweel_kernel and create a function called chain using Gen's Unfold combinator and this kernel."
   ]
  },
  {
   "cell_type": "code",
   "execution_count": null,
   "id": "db54db78",
   "metadata": {},
   "outputs": [],
   "source": [
    "@gen function ferriswheel_kernel(k::Int, curr_field::Field)\n",
    "    # observation noise of the mangetic field (intensity and direction)\n",
    "    σ = 0.1\n",
    "    \n",
    "    # Draw a movement (according to the probabilistic specification above)\n",
    "    # your code here\n",
    "    throw(Exception(\"Not Implemented.\"))\n",
    "\n",
    "    # As implemented below, the following code will break.\n",
    "    # Use Julia's \"multiple dispatch\" to ensure that you can add\n",
    "    #   a `Field` to a `Movement`\n",
    "    next_field = curr_field + movement\n",
    "\n",
    "    # observe noisy intensity/direction measurements\n",
    "    # The following variable should be named `obs_intensity`\n",
    "    # your code here\n",
    "    throw(Exception(\"Not Implemented.\"))\n",
    "    # The following variable should be named `obs_direction`\n",
    "    # your code here\n",
    "    throw(Exception(\"Not Implemented.\"))\n",
    "    \n",
    "    # Return the updated field\n",
    "    # your code here\n",
    "    throw(Exception(\"Not Implemented.\"))\n",
    "end\n",
    "\n",
    "# Create a function `chain` using Gen's `Unfold` combinator for use in Particle Filtering\n",
    "# your code here\n",
    "throw(Exception(\"Not Implemented.\"))"
   ]
  },
  {
   "cell_type": "markdown",
   "id": "1a97189a",
   "metadata": {},
   "source": [
    "Fill in the following codeblock to create the temporal generative model `ferrishweel`"
   ]
  },
  {
   "cell_type": "code",
   "execution_count": null,
   "id": "88b9cae3",
   "metadata": {},
   "outputs": [],
   "source": [
    "@gen function ferriswheel(K::Int)\n",
    "    # this line allows us to use the init_field definition from the main scope – keep it there!\n",
    "    global init_field\n",
    "    # Sample from the `ferriswheel_kernel` K times, store it at the address `trajectory`\n",
    "    # your code here\n",
    "    throw(Exception(\"Not Implemented.\"))\n",
    "end"
   ]
  },
  {
   "cell_type": "markdown",
   "id": "af559feb",
   "metadata": {},
   "source": [
    "### Q 1B [1 pt]\n",
    "\n",
    "Draw a sequence of 10 movements from your generative model. The initial state is provided (`init_field`). \n",
    "\n",
    "Use the `get_choices` and `get_retval` functions to display the random choices and return values associated with the trace you simulated of the generative function. "
   ]
  },
  {
   "cell_type": "code",
   "execution_count": null,
   "id": "90277889",
   "metadata": {},
   "outputs": [],
   "source": [
    "# Start at coordinates (N, 3, 3)\n",
    "init_field = Field(N, 3, 3)\n",
    "\n",
    "# Run your model forward with 10 movements, name your variable `trace`\n",
    "# your code here\n",
    "throw(Exception(\"Not Implemented.\"))\n",
    "\n",
    "# Display the choices from `trace`\n",
    "# your code here\n",
    "throw(Exception(\"Not Implemented.\"))"
   ]
  },
  {
   "cell_type": "code",
   "execution_count": null,
   "id": "28d98a92",
   "metadata": {},
   "outputs": [],
   "source": [
    "# Get the return values for your `trace\n",
    "# your code here\n",
    "throw(Exception(\"Not Implemented.\"))"
   ]
  },
  {
   "cell_type": "markdown",
   "id": "bca8c774",
   "metadata": {},
   "source": [
    "Execute the next code block to visualize your sample. (Review this visualization code, but nothing to fill in.) You will see that it plots a binary heatmap of which movements occured (n, s, e, w), a gray scale heatmap showing the trajectory, and a line plot of how intensities and directions changed throughout the sequence. "
   ]
  },
  {
   "cell_type": "code",
   "execution_count": null,
   "id": "f842ceea",
   "metadata": {},
   "outputs": [],
   "source": [
    "# a helper function to visualize things\n",
    "# we visualize the movements and \n",
    "#   the predicted intensity and direction\n",
    "#   values according to the coordinates of \n",
    "#   visited cells\n",
    "function visualize(trace; title=\"\")\n",
    "    choices = get_choices(trace)\n",
    "    fields  = get_retval(trace)\n",
    "\n",
    "    # get the movements and coordinates\n",
    "    ms = [field.movement for field in fields]\n",
    "    xs = [field.x for field in fields]\n",
    "    ys = [field.y for field in fields]\n",
    "    \n",
    "    # predicted intensities\n",
    "    intensities = intensity.(fields)\n",
    "    \n",
    "    # predicted directions\n",
    "    directions = direction.(fields)\n",
    "\n",
    "    # create a binary matrix of movements (4 x length(ms))\n",
    "    binary_movements = falses(4, length(ms))\n",
    "    for (index, movement) in enumerate(ms)\n",
    "        movement_order = findfirst(isequal(movement), DIRECTIONS)\n",
    "        binary_movements[movement_order, index] = true\n",
    "    end\n",
    "\n",
    "    # create a gray scale matrix of coordinates, [-2, 12] x [-2, 12]\n",
    "    # the brighter the color, the more recent the step is\n",
    "    binary_coordinates = zeros(15, 15)\n",
    "    n = length(xs)\n",
    "    for t = 1:n\n",
    "        binary_coordinates[xs[t] + 3, ys[t] + 3] = t / n\n",
    "    end\n",
    "\n",
    "    # plot the movements\n",
    "    p1 = plot(\n",
    "        binary_movements,\n",
    "        seriestype=:heatmap,\n",
    "        legend=false, \n",
    "        thickness_scaling=3.5,\n",
    "        title=title,\n",
    "        titlefont=5,\n",
    "    )\n",
    "    p2 = plot(\n",
    "        binary_coordinates,\n",
    "        seriestype=:heatmap,\n",
    "        legend=false, \n",
    "        thickness_scaling=3.5,\n",
    "        aspect_ratio = :equal,\n",
    "        size=(800, 800),\n",
    "        xtickfontsize=3,\n",
    "        ytickfontsize=3,\n",
    "    )\n",
    "    # plot intensities and directions\n",
    "    p3 = plot(\n",
    "        collect(1:length(ms)),\n",
    "        [intensities, directions], \n",
    "        thickness_scaling=3.5,\n",
    "        labels=[\"intensity\" \"direction\"]\n",
    "    )\n",
    "    plot(p1, p2, p3, layout=(3,1), legend=:inside, size=(1200, 1600))\n",
    "end\n",
    "\n",
    "visualize(trace)"
   ]
  },
  {
   "cell_type": "markdown",
   "id": "979d6cc3",
   "metadata": {},
   "source": [
    "Execute the following codeblock to load and visualize the observed intensity and directions"
   ]
  },
  {
   "cell_type": "code",
   "execution_count": null,
   "id": "e2522392",
   "metadata": {},
   "outputs": [],
   "source": [
    "# load observations (sensory features)\n",
    "obs_fields = DataFrame(CSV.File(\"./data/observed_fields.csv\"))\n",
    "\n",
    "# visualize (just run the following code)\n",
    "plot(\n",
    "    collect(1:size(obs_fields, 1)),\n",
    "    [obs_fields[!, :intensity], obs_fields[!, :direction]],\n",
    "    labels=[\"intensity\" \"direction\"]\n",
    ")"
   ]
  },
  {
   "cell_type": "markdown",
   "id": "714d8ca0",
   "metadata": {},
   "source": [
    "### Q 1C [4 pts]\n",
    "\n",
    "In Gen, write a particle filtering algorithm to infer a posterior distribution over movements given the intensity and direction measurements in `observations`."
   ]
  },
  {
   "cell_type": "code",
   "execution_count": null,
   "id": "68ccecfa",
   "metadata": {},
   "outputs": [],
   "source": [
    "function particle_filter(num_particles::Int, obs_fields, num_samples::Int)\n",
    "    #initital observation\n",
    "    init_obs = Gen.choicemap(\n",
    "        (:trajectory => 0 => :obs_intensity, obs_fields[1, :intensity]),\n",
    "        (:trajectory => 0 => :obs_direction, obs_fields[1, :direction]),\n",
    "    )\n",
    "    \n",
    "    # initialize the particle filter    \n",
    "    # your code here\n",
    "    throw(Exception(\"Not Implemented.\"))\n",
    "        \n",
    "    for (idx, obs_field) in enumerate(eachrow(obs_fields))\n",
    "        # Resample\n",
    "        # your code here\n",
    "        throw(Exception(\"Not Implemented.\"))\n",
    "\n",
    "        # load observations of this time step\n",
    "        # your code here\n",
    "        throw(Exception(\"Not Implemented.\"))\n",
    "\n",
    "        # Re-weight by the likelihood \n",
    "        # your code here\n",
    "        throw(Exception(\"Not Implemented.\"))\n",
    "    end\n",
    "    \n",
    "    # return a sample of unweighted traces from the weighted collection\n",
    "    # your code here\n",
    "    throw(Exception(\"Not Implemented.\"))\n",
    "end"
   ]
  },
  {
   "cell_type": "markdown",
   "id": "c51f1089",
   "metadata": {},
   "source": [
    "Now call this particle filter inference procedure with 1000 particles and return 100 samples"
   ]
  },
  {
   "cell_type": "code",
   "execution_count": null,
   "id": "ab93dfe0",
   "metadata": {},
   "outputs": [],
   "source": [
    "# your code here\n",
    "throw(Exception(\"Not Implemented.\"))"
   ]
  },
  {
   "cell_type": "markdown",
   "id": "e667c6da",
   "metadata": {},
   "source": [
    "### Q 1D [1 pts]\n",
    "\n",
    "The following codeblock visualizes these 100 posterior samples you just computer, one after the other; each frame shows the inferred sequence of movements and trajectory according to the posterior sample (top) and the predicted intensities and directions. View this animation and explain what it reveals about the posterior distribution. Write 1-2 sentences in the Markdown block after the animation."
   ]
  },
  {
   "cell_type": "code",
   "execution_count": null,
   "id": "0b4a1571",
   "metadata": {},
   "outputs": [],
   "source": [
    "viz = Plots.@animate for (trace_id, trace) in enumerate(pf_traces)\n",
    "    visualize(trace;title=\"Sample $trace_id / 100\")\n",
    "end\n",
    "gif(viz, fps=1)"
   ]
  },
  {
   "cell_type": "markdown",
   "id": "4fc035a9",
   "metadata": {},
   "source": [
    "YOUR ANSWER HERE"
   ]
  }
 ],
 "metadata": {
  "kernelspec": {
   "display_name": "Julia 1.10.0",
   "language": "julia",
   "name": "julia-1.10"
  },
  "language_info": {
   "file_extension": ".jl",
   "mimetype": "application/julia",
   "name": "julia",
   "version": "1.10.0"
  }
 },
 "nbformat": 4,
 "nbformat_minor": 5
}
